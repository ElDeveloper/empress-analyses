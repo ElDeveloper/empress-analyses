{
 "cells": [
  {
   "cell_type": "markdown",
   "metadata": {},
   "source": [
    "# Oral microbiota before and after toothbrushing\n",
    "\n",
    "This re-visualizes the oral microbiome dataset used in [Morton and Marotz et al. 2019](https://www.nature.com/articles/s41467-019-10656-5). Just to review, this is a 16S rRNA sequencing dataset spanning 32 samples.\n",
    "\n",
    "The main goal of this figure is demonstrating the ease of loading multiple layers of differential abundance measurements onto an EMPress tree, allowing us to do things like quickly see how different differential abundance tools agree or disagree.\n",
    "\n",
    "## Requirements\n",
    "This should be run from within a QIIME 2 (at least version 2019.10) conda environment, with EMPress installed. Please see [EMPress' README](https://github.com/biocore/empress) for the most up-to-date installation instructions.\n",
    "\n",
    "## 0. Input data files\n",
    "The data we'll be using comes primarily from [this GitHub repository](https://github.com/knightlab-analyses/reference-frames) containing the Morton/Marotz paper's data.\n",
    "\n",
    "### 0.1. Downloaded from [the `data/` folder of the reference frames repository](https://github.com/knightlab-analyses/reference-frames/tree/master/data)\n",
    "\n",
    "- `oral_trimmed_deblur.biom`: Feature table for this dataset. The features described in this table are a subset of the features in `rep-seqs-deblur.qza`, indicating that some filtering was likely done upstream. (This table is not stored as a QIIME 2 artifact, so we don't have provenance data for it.)\n",
    "\n",
    "- `oral_trimmed_metadata.txt`: Sample metadata for this dataset.\n",
    "\n",
    "- `deblur-taxonomy.qza`: Taxonomy for this dataset, assigned using q2-feature-classifier's `classify-sklearn` method.\n",
    "\n",
    "### 0.2. Downloaded from [the `results/oral-results/` folder of the reference frames repository](https://github.com/knightlab-analyses/reference-frames/tree/master/results/oral-results)\n",
    "\n",
    "(These are the three differential abundance tools' results we'll be visualizing on the tree.)\n",
    "\n",
    "- `differentials.csv`: Songbird differentials\n",
    "- `aldex2_results.txt`: ALDEx2 results, including per-feature effect sizes and adjusted p-values\n",
    "- `ancom_results_mixed.csv`: ANCOM results, including W statistics and whether or not features were significant at certain cutoffs.\n",
    "\n",
    "### 0.3. Not downloaded from GitHub\n",
    "\n",
    "- `rep-seqs-deblur.qza`: Sequences for this dataset, produced using Deblur. This artifact was not included in the `reference-frames` GitHub repo, although thanks to QIIME 2's provenance tracking we can verify that this artifact's UUID (`0af26274-7003-4be1-abbf-255c03a6ef9c`) matches the UUID of the sequences from which `deblur-taxonomy.qza` was generated.\n",
    "\n",
    "For the sake of convenience, we've included all input files in the `fig2c/input/` folder within this repository."
   ]
  },
  {
   "cell_type": "markdown",
   "metadata": {},
   "source": [
    "## 1. Prepare data\n",
    "\n",
    "### 1.1. Import feature table\n",
    "The feature table for this dataset (`fig2c/input/oral_trimmed_deblur.biom`) is just stored as a BIOM table. To use it with QIIME 2, we'll need to \"import\" it (see the [QIIME 2 docs](https://docs.qiime2.org/2020.8/tutorials/importing/) for details on why this is needed)."
   ]
  },
  {
   "cell_type": "code",
   "execution_count": 1,
   "metadata": {},
   "outputs": [
    {
     "name": "stdout",
     "output_type": "stream",
     "text": [
      "\u001b[32mImported fig2c/input/oral_trimmed_deblur.biom as BIOMV210DirFmt to fig2c/output/table.qza\u001b[0m\r\n"
     ]
    }
   ],
   "source": [
    "!qiime tools import \\\n",
    "    --type \"FeatureTable[Frequency]\" \\\n",
    "    --input-path fig2c/input/oral_trimmed_deblur.biom \\\n",
    "    --output-path fig2c/output/table.qza"
   ]
  },
  {
   "cell_type": "markdown",
   "metadata": {},
   "source": [
    "### 1.2. Load and prepare differential abundance results\n",
    "\n",
    "First off, we need to convert things so that all of these methods use tab delimiters instead of commas or spaces -- this is because QIIME 2 generally expects all metadata files to be tab-separated.\n",
    "\n",
    "Also, we'll need to merge all of the differential abundance results into a single DataFrame. It's possible to pass multiple feature metadata files to QIIME 2 and have it do the merging automatically, but currently an \"inner join\" merge is used -- this can result in a lot of features being dropped if just one of the metadata files only contains entries for some features (see [this issue](https://github.com/biocore/empress/issues/393) for details). For us, this can cause problems because Songbird filters out a few features (although ALDEx2 and ANCOM did not). To get around this, we just do the merging ourselves.\n",
    "\n",
    "#### 1.2.1. Songbird\n",
    "See [here](https://github.com/knightlab-analyses/reference-frames/blob/master/scripts/oral-multinomial.sh) for the script that was presumably used to generate these results."
   ]
  },
  {
   "cell_type": "code",
   "execution_count": 30,
   "metadata": {},
   "outputs": [
    {
     "data": {
      "text/html": [
       "<div>\n",
       "<style scoped>\n",
       "    .dataframe tbody tr th:only-of-type {\n",
       "        vertical-align: middle;\n",
       "    }\n",
       "\n",
       "    .dataframe tbody tr th {\n",
       "        vertical-align: top;\n",
       "    }\n",
       "\n",
       "    .dataframe thead th {\n",
       "        text-align: right;\n",
       "    }\n",
       "</style>\n",
       "<table border=\"1\" class=\"dataframe\">\n",
       "  <thead>\n",
       "    <tr style=\"text-align: right;\">\n",
       "      <th></th>\n",
       "      <th>Intercept</th>\n",
       "      <th>C(brushing_event)[T.before]</th>\n",
       "    </tr>\n",
       "  </thead>\n",
       "  <tbody>\n",
       "    <tr>\n",
       "      <th>99647b51f775c8ddde8ed36a7d60dbcd</th>\n",
       "      <td>4.353183</td>\n",
       "      <td>1.105140</td>\n",
       "    </tr>\n",
       "    <tr>\n",
       "      <th>51121722488d0c3da1388d1b117cd239</th>\n",
       "      <td>4.564780</td>\n",
       "      <td>0.797395</td>\n",
       "    </tr>\n",
       "    <tr>\n",
       "      <th>d599ebe277afb0dfd4ad3c2176afc50e</th>\n",
       "      <td>3.638733</td>\n",
       "      <td>0.466282</td>\n",
       "    </tr>\n",
       "    <tr>\n",
       "      <th>39c4199fe81f30a5b4b0fd5bf2f43c03</th>\n",
       "      <td>3.567794</td>\n",
       "      <td>-0.036673</td>\n",
       "    </tr>\n",
       "    <tr>\n",
       "      <th>4629fbb5dde5f8ee07c2259d2887a8d4</th>\n",
       "      <td>2.803713</td>\n",
       "      <td>0.326921</td>\n",
       "    </tr>\n",
       "  </tbody>\n",
       "</table>\n",
       "</div>"
      ],
      "text/plain": [
       "                                  Intercept  C(brushing_event)[T.before]\n",
       "99647b51f775c8ddde8ed36a7d60dbcd   4.353183                     1.105140\n",
       "51121722488d0c3da1388d1b117cd239   4.564780                     0.797395\n",
       "d599ebe277afb0dfd4ad3c2176afc50e   3.638733                     0.466282\n",
       "39c4199fe81f30a5b4b0fd5bf2f43c03   3.567794                    -0.036673\n",
       "4629fbb5dde5f8ee07c2259d2887a8d4   2.803713                     0.326921"
      ]
     },
     "execution_count": 30,
     "metadata": {},
     "output_type": "execute_result"
    }
   ],
   "source": [
    "import pandas as pd\n",
    "\n",
    "sb = pd.read_csv(\"fig2c/input/differentials.csv\", sep=\",\", index_col=0)\n",
    "\n",
    "sb.head()"
   ]
  },
  {
   "cell_type": "markdown",
   "metadata": {},
   "source": [
    "#### 1.2.2. ALDEx2\n",
    "\n",
    "See [here](https://github.com/knightlab-analyses/reference-frames/blob/master/scripts/aldex2_oral_analysis.R) for the script that was presumably used to generate these results."
   ]
  },
  {
   "cell_type": "code",
   "execution_count": 31,
   "metadata": {
    "scrolled": true
   },
   "outputs": [
    {
     "data": {
      "text/html": [
       "<div>\n",
       "<style scoped>\n",
       "    .dataframe tbody tr th:only-of-type {\n",
       "        vertical-align: middle;\n",
       "    }\n",
       "\n",
       "    .dataframe tbody tr th {\n",
       "        vertical-align: top;\n",
       "    }\n",
       "\n",
       "    .dataframe thead th {\n",
       "        text-align: right;\n",
       "    }\n",
       "</style>\n",
       "<table border=\"1\" class=\"dataframe\">\n",
       "  <thead>\n",
       "    <tr style=\"text-align: right;\">\n",
       "      <th></th>\n",
       "      <th>sfit.category</th>\n",
       "      <th>sfit.effect</th>\n",
       "      <th>sfit.padj</th>\n",
       "    </tr>\n",
       "  </thead>\n",
       "  <tbody>\n",
       "    <tr>\n",
       "      <th>99647b51f775c8ddde8ed36a7d60dbcd</th>\n",
       "      <td>1</td>\n",
       "      <td>0.853597</td>\n",
       "      <td>0.132165</td>\n",
       "    </tr>\n",
       "    <tr>\n",
       "      <th>51121722488d0c3da1388d1b117cd239</th>\n",
       "      <td>2</td>\n",
       "      <td>0.599897</td>\n",
       "      <td>0.448483</td>\n",
       "    </tr>\n",
       "    <tr>\n",
       "      <th>d599ebe277afb0dfd4ad3c2176afc50e</th>\n",
       "      <td>3</td>\n",
       "      <td>0.185457</td>\n",
       "      <td>0.859527</td>\n",
       "    </tr>\n",
       "    <tr>\n",
       "      <th>39c4199fe81f30a5b4b0fd5bf2f43c03</th>\n",
       "      <td>4</td>\n",
       "      <td>0.234499</td>\n",
       "      <td>0.927057</td>\n",
       "    </tr>\n",
       "    <tr>\n",
       "      <th>4629fbb5dde5f8ee07c2259d2887a8d4</th>\n",
       "      <td>5</td>\n",
       "      <td>0.235738</td>\n",
       "      <td>0.892176</td>\n",
       "    </tr>\n",
       "  </tbody>\n",
       "</table>\n",
       "</div>"
      ],
      "text/plain": [
       "                                  sfit.category  sfit.effect  sfit.padj\n",
       "99647b51f775c8ddde8ed36a7d60dbcd              1     0.853597   0.132165\n",
       "51121722488d0c3da1388d1b117cd239              2     0.599897   0.448483\n",
       "d599ebe277afb0dfd4ad3c2176afc50e              3     0.185457   0.859527\n",
       "39c4199fe81f30a5b4b0fd5bf2f43c03              4     0.234499   0.927057\n",
       "4629fbb5dde5f8ee07c2259d2887a8d4              5     0.235738   0.892176"
      ]
     },
     "execution_count": 31,
     "metadata": {},
     "output_type": "execute_result"
    }
   ],
   "source": [
    "aldex2 = pd.read_csv(\"fig2c/input/aldex2_results.txt\", sep=\" \", index_col=1)\n",
    "# Many of the feature IDs erroneously start with X -- this is due to R, see\n",
    "# https://stackoverflow.com/a/10444744/10730311. To get around this, we remove all leading Xs\n",
    "# (this is safe because all of the feature IDs seem to have only lowercase alphabetical characters,\n",
    "# so the only instances of Xs should be at the start of the IDs)\n",
    "aldex2.index = [i if i[0] != 'X' else i[1:] for i in aldex2.index]\n",
    "aldex2.head()"
   ]
  },
  {
   "cell_type": "markdown",
   "metadata": {},
   "source": [
    "#### 1.2.3. ANCOM\n",
    "\n",
    "See [here](https://github.com/knightlab-analyses/reference-frames/blob/master/scripts/ancom_oral_analysis.R) for the script that was presumably used to generate these results."
   ]
  },
  {
   "cell_type": "code",
   "execution_count": 32,
   "metadata": {
    "scrolled": false
   },
   "outputs": [
    {
     "data": {
      "text/html": [
       "<div>\n",
       "<style scoped>\n",
       "    .dataframe tbody tr th:only-of-type {\n",
       "        vertical-align: middle;\n",
       "    }\n",
       "\n",
       "    .dataframe tbody tr th {\n",
       "        vertical-align: top;\n",
       "    }\n",
       "\n",
       "    .dataframe thead th {\n",
       "        text-align: right;\n",
       "    }\n",
       "</style>\n",
       "<table border=\"1\" class=\"dataframe\">\n",
       "  <thead>\n",
       "    <tr style=\"text-align: right;\">\n",
       "      <th></th>\n",
       "      <th>W_stat</th>\n",
       "      <th>detected_0.9</th>\n",
       "      <th>detected_0.8</th>\n",
       "      <th>detected_0.7</th>\n",
       "      <th>detected_0.6</th>\n",
       "    </tr>\n",
       "  </thead>\n",
       "  <tbody>\n",
       "    <tr>\n",
       "      <th>f6eb8537456dde7792eff60c8d1e797c</th>\n",
       "      <td>201</td>\n",
       "      <td>True</td>\n",
       "      <td>True</td>\n",
       "      <td>True</td>\n",
       "      <td>True</td>\n",
       "    </tr>\n",
       "    <tr>\n",
       "      <th>1275c8657f3502d2f3d7b0d9ec7e1c78</th>\n",
       "      <td>188</td>\n",
       "      <td>True</td>\n",
       "      <td>True</td>\n",
       "      <td>True</td>\n",
       "      <td>True</td>\n",
       "    </tr>\n",
       "    <tr>\n",
       "      <th>a9b4a380d3b76755de55410a3b856df4</th>\n",
       "      <td>187</td>\n",
       "      <td>True</td>\n",
       "      <td>True</td>\n",
       "      <td>True</td>\n",
       "      <td>True</td>\n",
       "    </tr>\n",
       "    <tr>\n",
       "      <th>41f67443ce8207be0c0a956c47823417</th>\n",
       "      <td>180</td>\n",
       "      <td>False</td>\n",
       "      <td>True</td>\n",
       "      <td>True</td>\n",
       "      <td>True</td>\n",
       "    </tr>\n",
       "    <tr>\n",
       "      <th>99647b51f775c8ddde8ed36a7d60dbcd</th>\n",
       "      <td>179</td>\n",
       "      <td>False</td>\n",
       "      <td>True</td>\n",
       "      <td>True</td>\n",
       "      <td>True</td>\n",
       "    </tr>\n",
       "  </tbody>\n",
       "</table>\n",
       "</div>"
      ],
      "text/plain": [
       "                                  W_stat  detected_0.9  detected_0.8  \\\n",
       "f6eb8537456dde7792eff60c8d1e797c     201          True          True   \n",
       "1275c8657f3502d2f3d7b0d9ec7e1c78     188          True          True   \n",
       "a9b4a380d3b76755de55410a3b856df4     187          True          True   \n",
       "41f67443ce8207be0c0a956c47823417     180         False          True   \n",
       "99647b51f775c8ddde8ed36a7d60dbcd     179         False          True   \n",
       "\n",
       "                                  detected_0.7  detected_0.6  \n",
       "f6eb8537456dde7792eff60c8d1e797c          True          True  \n",
       "1275c8657f3502d2f3d7b0d9ec7e1c78          True          True  \n",
       "a9b4a380d3b76755de55410a3b856df4          True          True  \n",
       "41f67443ce8207be0c0a956c47823417          True          True  \n",
       "99647b51f775c8ddde8ed36a7d60dbcd          True          True  "
      ]
     },
     "execution_count": 32,
     "metadata": {},
     "output_type": "execute_result"
    }
   ],
   "source": [
    "ancom = pd.read_csv(\"fig2c/input/ancom_results_mixed.csv\", sep=\",\", index_col=0)\n",
    "# Just like with ALDEx2, remove leading Xs\n",
    "ancom.index = [i if i[0] != 'X' else i[1:] for i in ancom.index]\n",
    "ancom.head()"
   ]
  },
  {
   "cell_type": "markdown",
   "metadata": {},
   "source": [
    "### 1.3. Merge all the differential abundance results, and export the resulting file"
   ]
  },
  {
   "cell_type": "code",
   "execution_count": 36,
   "metadata": {
    "scrolled": false
   },
   "outputs": [
    {
     "data": {
      "text/html": [
       "<div>\n",
       "<style scoped>\n",
       "    .dataframe tbody tr th:only-of-type {\n",
       "        vertical-align: middle;\n",
       "    }\n",
       "\n",
       "    .dataframe tbody tr th {\n",
       "        vertical-align: top;\n",
       "    }\n",
       "\n",
       "    .dataframe thead th {\n",
       "        text-align: right;\n",
       "    }\n",
       "</style>\n",
       "<table border=\"1\" class=\"dataframe\">\n",
       "  <thead>\n",
       "    <tr style=\"text-align: right;\">\n",
       "      <th></th>\n",
       "      <th>Intercept</th>\n",
       "      <th>C(brushing_event)[T.before]</th>\n",
       "      <th>sfit.category</th>\n",
       "      <th>sfit.effect</th>\n",
       "      <th>sfit.padj</th>\n",
       "      <th>W_stat</th>\n",
       "      <th>detected_0.9</th>\n",
       "      <th>detected_0.8</th>\n",
       "      <th>detected_0.7</th>\n",
       "      <th>detected_0.6</th>\n",
       "    </tr>\n",
       "    <tr>\n",
       "      <th>FeatureID</th>\n",
       "      <th></th>\n",
       "      <th></th>\n",
       "      <th></th>\n",
       "      <th></th>\n",
       "      <th></th>\n",
       "      <th></th>\n",
       "      <th></th>\n",
       "      <th></th>\n",
       "      <th></th>\n",
       "      <th></th>\n",
       "    </tr>\n",
       "  </thead>\n",
       "  <tbody>\n",
       "    <tr>\n",
       "      <th>99647b51f775c8ddde8ed36a7d60dbcd</th>\n",
       "      <td>4.353183</td>\n",
       "      <td>1.105140</td>\n",
       "      <td>1</td>\n",
       "      <td>0.853597</td>\n",
       "      <td>0.132165</td>\n",
       "      <td>179</td>\n",
       "      <td>False</td>\n",
       "      <td>True</td>\n",
       "      <td>True</td>\n",
       "      <td>True</td>\n",
       "    </tr>\n",
       "    <tr>\n",
       "      <th>51121722488d0c3da1388d1b117cd239</th>\n",
       "      <td>4.564780</td>\n",
       "      <td>0.797395</td>\n",
       "      <td>2</td>\n",
       "      <td>0.599897</td>\n",
       "      <td>0.448483</td>\n",
       "      <td>106</td>\n",
       "      <td>False</td>\n",
       "      <td>False</td>\n",
       "      <td>False</td>\n",
       "      <td>False</td>\n",
       "    </tr>\n",
       "    <tr>\n",
       "      <th>d599ebe277afb0dfd4ad3c2176afc50e</th>\n",
       "      <td>3.638733</td>\n",
       "      <td>0.466282</td>\n",
       "      <td>3</td>\n",
       "      <td>0.185457</td>\n",
       "      <td>0.859527</td>\n",
       "      <td>0</td>\n",
       "      <td>False</td>\n",
       "      <td>False</td>\n",
       "      <td>False</td>\n",
       "      <td>False</td>\n",
       "    </tr>\n",
       "    <tr>\n",
       "      <th>39c4199fe81f30a5b4b0fd5bf2f43c03</th>\n",
       "      <td>3.567794</td>\n",
       "      <td>-0.036673</td>\n",
       "      <td>4</td>\n",
       "      <td>0.234499</td>\n",
       "      <td>0.927057</td>\n",
       "      <td>6</td>\n",
       "      <td>False</td>\n",
       "      <td>False</td>\n",
       "      <td>False</td>\n",
       "      <td>False</td>\n",
       "    </tr>\n",
       "    <tr>\n",
       "      <th>4629fbb5dde5f8ee07c2259d2887a8d4</th>\n",
       "      <td>2.803713</td>\n",
       "      <td>0.326921</td>\n",
       "      <td>5</td>\n",
       "      <td>0.235738</td>\n",
       "      <td>0.892176</td>\n",
       "      <td>19</td>\n",
       "      <td>False</td>\n",
       "      <td>False</td>\n",
       "      <td>False</td>\n",
       "      <td>False</td>\n",
       "    </tr>\n",
       "  </tbody>\n",
       "</table>\n",
       "</div>"
      ],
      "text/plain": [
       "                                  Intercept  C(brushing_event)[T.before]  \\\n",
       "FeatureID                                                                  \n",
       "99647b51f775c8ddde8ed36a7d60dbcd   4.353183                     1.105140   \n",
       "51121722488d0c3da1388d1b117cd239   4.564780                     0.797395   \n",
       "d599ebe277afb0dfd4ad3c2176afc50e   3.638733                     0.466282   \n",
       "39c4199fe81f30a5b4b0fd5bf2f43c03   3.567794                    -0.036673   \n",
       "4629fbb5dde5f8ee07c2259d2887a8d4   2.803713                     0.326921   \n",
       "\n",
       "                                  sfit.category  sfit.effect  sfit.padj  \\\n",
       "FeatureID                                                                 \n",
       "99647b51f775c8ddde8ed36a7d60dbcd              1     0.853597   0.132165   \n",
       "51121722488d0c3da1388d1b117cd239              2     0.599897   0.448483   \n",
       "d599ebe277afb0dfd4ad3c2176afc50e              3     0.185457   0.859527   \n",
       "39c4199fe81f30a5b4b0fd5bf2f43c03              4     0.234499   0.927057   \n",
       "4629fbb5dde5f8ee07c2259d2887a8d4              5     0.235738   0.892176   \n",
       "\n",
       "                                  W_stat  detected_0.9  detected_0.8  \\\n",
       "FeatureID                                                              \n",
       "99647b51f775c8ddde8ed36a7d60dbcd     179         False          True   \n",
       "51121722488d0c3da1388d1b117cd239     106         False         False   \n",
       "d599ebe277afb0dfd4ad3c2176afc50e       0         False         False   \n",
       "39c4199fe81f30a5b4b0fd5bf2f43c03       6         False         False   \n",
       "4629fbb5dde5f8ee07c2259d2887a8d4      19         False         False   \n",
       "\n",
       "                                  detected_0.7  detected_0.6  \n",
       "FeatureID                                                     \n",
       "99647b51f775c8ddde8ed36a7d60dbcd          True          True  \n",
       "51121722488d0c3da1388d1b117cd239         False         False  \n",
       "d599ebe277afb0dfd4ad3c2176afc50e         False         False  \n",
       "39c4199fe81f30a5b4b0fd5bf2f43c03         False         False  \n",
       "4629fbb5dde5f8ee07c2259d2887a8d4         False         False  "
      ]
     },
     "execution_count": 36,
     "metadata": {},
     "output_type": "execute_result"
    }
   ],
   "source": [
    "diff = pd.concat([sb, aldex2, ancom], axis=1, sort=False)\n",
    "# This DataFrame's first column doesn't have a name, so we need to give it a valid\n",
    "# one to prevent QIIME 2 from yelling at us.\n",
    "diff.index.name = \"FeatureID\"\n",
    "diff.to_csv(\"fig2c/output/merged-diff-abund.tsv\", sep=\"\\t\")\n",
    "diff.head()"
   ]
  },
  {
   "cell_type": "markdown",
   "metadata": {},
   "source": [
    "### 1.4. Generate a phylogenetic tree from this data\n",
    "\n",
    "Before we can visualize a tree, we need to have a tree :)\n",
    "\n",
    "There are many ways we can do this, but here we don't care too much about the details -- we'll just create a _de novo_ tree from the sequences, which is fortunately simple to do using QIIME 2.\n",
    "\n",
    "It is worth noting that the sequences described in the table are a subset of the sequences contained in `rep-seqs-deblur.qza`, as mentioned earlier. There are two ways to handle this situation (well, aside from making a new table that didn't use filtering, but that would make us regenerate the differential abundance results here):\n",
    "\n",
    "1. Generate a tree from _all_ of the sequences, regardless of whether or not they are included in the table, and then pass in the table to EMPress. By default, EMPress will shear the tree to just the sequences contained in the table. (This behavior is configurable with the `--p-shear-tree` parameter of `qiime empress community-plot`.)\n",
    "\n",
    "2. Filter the sequences down to just those in the table, and then generate a tree from _those_ sequences.\n",
    "\n",
    "Either solution would \"work,\" in the sense that it'd let us visualize the putative relationships between sequences. We'll go ahead and take option number 2, since it seems like the most straightforward way to handle this.\n",
    "\n",
    "#### 1.4.1. Filter the sequences to just those in the table"
   ]
  },
  {
   "cell_type": "code",
   "execution_count": 27,
   "metadata": {},
   "outputs": [
    {
     "name": "stdout",
     "output_type": "stream",
     "text": [
      "\u001b[32mSaved FeatureData[Sequence] to: fig2c/output/filtered-rep-seqs.qza\u001b[0m\r\n"
     ]
    }
   ],
   "source": [
    "!qiime feature-table filter-seqs \\\n",
    "    --i-data fig2c/input/rep-seqs-deblur.qza \\\n",
    "    --i-table fig2c/output/table.qza \\\n",
    "    --o-filtered-data fig2c/output/filtered-rep-seqs.qza"
   ]
  },
  {
   "cell_type": "markdown",
   "metadata": {},
   "source": [
    "#### 1.4.2. Generate a _de novo_ tree from these sequences\n",
    "\n",
    "This command generates a bunch of different outputs, so we just create a new subdirectory (`filtered-denovo-tree/`) within the output directory to store the results in.\n",
    "\n",
    "Note that this command will generate both an unrooted and a rooted tree. EMPress requires that the input tree is rooted, so we'll visualize the `Phylogeny[Rooted]` tree. (That said, EMPress can still lay out the tree in an unrooted manner.)"
   ]
  },
  {
   "cell_type": "code",
   "execution_count": 28,
   "metadata": {},
   "outputs": [
    {
     "name": "stdout",
     "output_type": "stream",
     "text": [
      "\u001b[32mSaved FeatureData[AlignedSequence] to: fig2c/output/filtered-denovo-tree/alignment.qza\u001b[0m\n",
      "\u001b[32mSaved FeatureData[AlignedSequence] to: fig2c/output/filtered-denovo-tree/masked_alignment.qza\u001b[0m\n",
      "\u001b[32mSaved Phylogeny[Unrooted] to: fig2c/output/filtered-denovo-tree/tree.qza\u001b[0m\n",
      "\u001b[32mSaved Phylogeny[Rooted] to: fig2c/output/filtered-denovo-tree/rooted_tree.qza\u001b[0m\n"
     ]
    }
   ],
   "source": [
    "!qiime phylogeny align-to-tree-mafft-fasttree \\\n",
    "    --i-sequences fig2c/output/filtered-rep-seqs.qza \\\n",
    "    --output-dir fig2c/output/filtered-denovo-tree/"
   ]
  },
  {
   "cell_type": "markdown",
   "metadata": {},
   "source": [
    "## 2. Visualize the prepared data in the context of the tree\n",
    "\n",
    "Finally!\n",
    "\n",
    "### 2.1. Generate the visualization using EMPress\n",
    "\n",
    "#### Why `community-plot`?\n",
    "\n",
    "We visualize this tree using `qiime empress community-plot`, which takes as input (in addition to the tree and feature metadata) a feature table and sample metadata files.\n",
    "\n",
    "We don't _need_ to do this -- for Fig. 2(C), we only visualize feature metadata, so we could instead use `qiime empress tree-plot` and avoid providing the feature table and sample metadata to EMPress. However, it can still be useful to pass this data to EMPress if you have it: here, it lets us do fun things like create barplots showing the split between `before`- and `after`- brushing samples for each tip (which we didn't include in the paper for the sake of space, but is still interesting)."
   ]
  },
  {
   "cell_type": "code",
   "execution_count": 39,
   "metadata": {},
   "outputs": [
    {
     "name": "stdout",
     "output_type": "stream",
     "text": [
      "\u001b[32mSaved Visualization to: fig2c/output/tree-viz.qzv\u001b[0m\r\n"
     ]
    }
   ],
   "source": [
    "!qiime empress community-plot \\\n",
    "    --i-tree fig2c/output/filtered-denovo-tree/rooted_tree.qza \\\n",
    "    --i-feature-table fig2c/output/table.qza \\\n",
    "    --m-sample-metadata-file fig2c/input/oral_trimmed_metadata.txt \\\n",
    "    --m-feature-metadata-file fig2c/input/deblur-taxonomy.qza \\\n",
    "    --m-feature-metadata-file fig2c/output/merged-diff-abund.tsv \\\n",
    "    --o-visualization fig2c/output/tree-viz.qzv\n",
    "\n",
    "# Alternately:\n",
    "# !qiime empress tree-plot \\\n",
    "#     --i-tree fig2c/output/filtered-denovo-tree/rooted_tree.qza \\\n",
    "#     --m-feature-metadata-file fig2c/input/deblur-taxonomy.qza \\\n",
    "#     --m-feature-metadata-file fig2c/output/merged-diff-abund.tsv \\\n",
    "#     --o-visualization fig2c/output/tree-viz-just-fm.qzv"
   ]
  },
  {
   "cell_type": "markdown",
   "metadata": {},
   "source": [
    "### 2.2. Interact with EMPress to configure the visualization\n",
    "\n",
    "#### 2.2.1. Prepare the visualization\n",
    "\n",
    "The QZV file we just generated can be uploaded to `view.qiime2.org`, or viewed locally using `qiime tools view`. Alternately, [this is a hyperlink](https://view.qiime2.org/visualization/?src=https://raw.githubusercontent.com/knightlab-analyses/empress-analyses/master/notebooks/fig2c/output/tree-viz.qzv) that'll load the version of the visualization located in this respository.\n",
    "\n",
    "When the visualization loads, you should see something looking like:\n",
    "\n",
    "![](fig2c/screenshots/dflt_view.png)\n",
    "\n",
    "This is showing an unrooted layout of the tree (it's zoomed in a bit, so you can zoom out using your computer mouse to see the full tree). First off, use the `Layout` tab to change the layout to Circular, which will show you a rooted representation of the tree. Having the layout be Circular or Rectangular will allow us to draw tip barplots. (Feel free to try out the Rectangular layout instead!)\n",
    "\n",
    "![](fig2c/screenshots/circ_layout.png)\n",
    "\n",
    "Next, to make things a bit clearer, let's use the `Feature Metadata Coloring` tab to color the tree by tips' `Level 2` (aka phylum) taxonomy classifications. (This step is optional.)\n",
    "\n",
    "![](fig2c/screenshots/taxcoloring.png)"
   ]
  },
  {
   "cell_type": "markdown",
   "metadata": {},
   "source": [
    "#### 2.2.2. Draw barplots\n",
    "\n",
    "Things are looking nice. Now that the tree is using a rooted layout, we can draw barplots.\n",
    "\n",
    "Open up the `Barplots` tab and click the checkbox marked `Draw barplots?`. An interface will open up that'll let us add barplot layers to the tree.\n",
    "\n",
    "All of the differential abundance measurements we'll be using are \"feature metadata\" -- they're defined for the features in the dataset [represented here as tips in the tree], not for the samples in the dataset. So all of these barplot layers will be `Feature Metadata` layers.\n",
    "\n",
    "##### Songbird\n",
    "\n",
    "To match Fig. 2(C) in the paper, the innermost layer will show Songbird differentials. Click on `Color by...` and select `C(brushing_event)[T.before]`, the name of the column of Songbird differentials we'll visualize. (See [Songbird's README](https://github.com/biocore/songbird/#3-specifying-a-formula-) for details on what the output column names mean.) For the color map, select `Spectral` (it's listed under Diverging color maps), and then check the new `Continuous values?` checkbox that'll appear below the color map selector. Click `Update` to draw our first barplot layer.\n",
    "\n",
    "![](fig2c/screenshots/barplot1.png)\n",
    "\n",
    "Nice! This layer looks a bit thin, so to make it easier to view let's bump up the `Default length` for this layer to 500. (You'll need to click `Update` here, and throughout this walkthrough, in order to re-draw the barplots.)\n",
    "\n",
    "![](fig2c/screenshots/barplot1.5.png)\n",
    "\n",
    "Note how there are a few white bars within this layer, even though white isn't in the `Spectral` color map -- this is because these are features Songbird filtered out from the results. One of the reasons we chose `Spectral` for this is that it allows us to visually distinguish these few bars.\n",
    "\n",
    "##### ALDEx2\n",
    "\n",
    "Next, click the `Add another layer` button. This'll create an interface which'll let us describe the next layer, which will contain ALDEx2's effect sizes.\n",
    "\n",
    "This layer can be created the same way as Songbird's layer -- the only difference is you'll need to `Color by...` the `sfit.effect` field (for ALDEx2 effect sizes).\n",
    "\n",
    "![](fig2c/screenshots/barplot2.png)\n",
    "\n",
    "It's getting a bit difficult to distinguish the two layers, so let's use the `Add a border around barplot layers?` controls to add a border with length 100 around the layers. This makes things look a bit nicer. (Remember to click `Update` to make the changes here take effect.)\n",
    "\n",
    "![](fig2c/screenshots/barplot2.5.png)\n",
    "\n",
    "##### ANCOM\n",
    "\n",
    "Almost there! Let's add one more layer. This time, we'll color by `W_stat`, and we'll use `Purples` as our color map (since unlike the other two measurements ANCOM's W-statistic doesn't clearly indicate directionality). Remember to check the `Continuous values?` checkbox, and to increase the length to 500.\n",
    "\n",
    "![](fig2c/screenshots/barplot3.png)\n",
    "\n",
    "We're finally done!"
   ]
  },
  {
   "cell_type": "markdown",
   "metadata": {},
   "source": [
    "A full GIF of the process:\n",
    "\n",
    "![](fig2c/screenshots/full.gif)"
   ]
  },
  {
   "cell_type": "code",
   "execution_count": null,
   "metadata": {},
   "outputs": [],
   "source": []
  }
 ],
 "metadata": {
  "kernelspec": {
   "display_name": "qiime2-2019.10",
   "language": "python",
   "name": "qiime2-2019.10"
  },
  "language_info": {
   "codemirror_mode": {
    "name": "ipython",
    "version": 3
   },
   "file_extension": ".py",
   "mimetype": "text/x-python",
   "name": "python",
   "nbconvert_exporter": "python",
   "pygments_lexer": "ipython3",
   "version": "3.6.7"
  }
 },
 "nbformat": 4,
 "nbformat_minor": 2
}
